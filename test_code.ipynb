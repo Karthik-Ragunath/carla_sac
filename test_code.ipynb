{
 "cells": [
  {
   "cell_type": "code",
   "execution_count": 2,
   "metadata": {},
   "outputs": [],
   "source": [
    "import numpy as np"
   ]
  },
  {
   "cell_type": "code",
   "execution_count": 23,
   "metadata": {},
   "outputs": [
    {
     "name": "stdout",
     "output_type": "stream",
     "text": [
      "[ 0  1  2  3  4  5  6  7  8  9 10 11 12 13 14 15 16 17 18 19 20 21 22 23\n",
      " 24] [45 46 47 48 49 50 51 52 53 54 55 56 57 58 59]\n",
      "[44 43 42 41 40 39 38 37 36 35 34 33 32 31 30 29 28 27 26 25] [ 4 24 53  4 55 19 52 45 55 51]\n",
      "30\n"
     ]
    }
   ],
   "source": [
    "max_size = 60\n",
    "batch_size = 30\n",
    "sequential_size = 20\n",
    "current_pos = 45\n",
    "left_max = current_pos - sequential_size\n",
    "if left_max < 0:\n",
    "    reversed_size = -left_max\n",
    "    sampled_indices_1 = np.arange(current_pos)[::-1]\n",
    "    sampled_indices_2 = np.arange(max_size, max_size-reversed_size, -1)\n",
    "    print(sampled_indices_1, sampled_indices_2)\n",
    "    sampled_indices = np.concatenate((sampled_indices_1, sampled_indices_2))\n",
    "    print(sampled_indices, type(sampled_indices), type(sampled_indices[0]))\n",
    "    print(max_size-reversed_size, batch_size - sequential_size)\n",
    "    random_range = np.random.randint(low=current_pos + 1, high = max_size-reversed_size, size = batch_size - sequential_size)\n",
    "    print(random_range)\n",
    "    sampled_indices = np.concatenate((sampled_indices, random_range))\n",
    "    print(sampled_indices, len(sampled_indices))\n",
    "else:\n",
    "    sampled_indices = np.arange(left_max, current_pos)[::-1]\n",
    "    rest_indices_left = np.arange(0, left_max)\n",
    "    rest_indices_right = np.arange(current_pos, max_size)\n",
    "    print(rest_indices_left, rest_indices_right)\n",
    "    rest_indices_combined = np.concatenate((rest_indices_left, rest_indices_right))\n",
    "    random_choice = np.random.choice(rest_indices_combined, size=batch_size - sequential_size)\n",
    "    print(sampled_indices, random_choice)\n",
    "    sampled_indices = np.concatenate((sampled_indices, random_choice))\n",
    "    print(len(sampled_indices))"
   ]
  },
  {
   "cell_type": "code",
   "execution_count": 17,
   "metadata": {},
   "outputs": [
    {
     "name": "stdout",
     "output_type": "stream",
     "text": [
      "[22 50  5 32 55  6 51 42 33 51 51  4 10 52 43 26 10 25 46 34 34 19 49  6\n",
      "  9 29 32 34  9 48] <class 'numpy.ndarray'> <class 'numpy.int64'>\n"
     ]
    }
   ],
   "source": [
    "batch_idx = np.random.randint(60, size=30)\n",
    "print(batch_idx, type(batch_idx), type(batch_idx[0]))"
   ]
  },
  {
   "cell_type": "code",
   "execution_count": 4,
   "metadata": {},
   "outputs": [],
   "source": [
    "def return_random_samples(max_size=60, batch_size=30, sequential_size=20, current_pos=10):\n",
    "    left_max = current_pos - sequential_size\n",
    "    if left_max < 0:\n",
    "        reversed_size = -left_max\n",
    "        sampled_indices_1 = np.arange(current_pos)[::-1]\n",
    "        sampled_indices_2 = np.arange(max_size, max_size-reversed_size, -1)\n",
    "        sampled_indices = np.concatenate((sampled_indices_1, sampled_indices_2))\n",
    "        rest_samplable_sequence = np.arange(current_pos, max_size-reversed_size)\n",
    "        random_range = np.random.choice(rest_samplable_sequence, size = batch_size - sequential_size, replace=False)\n",
    "        sampled_indices = np.concatenate((sampled_indices, random_range))\n",
    "    else:\n",
    "        sampled_indices = np.arange(left_max, current_pos)[::-1]\n",
    "        rest_indices_left = np.arange(0, left_max)\n",
    "        rest_indices_right = np.arange(current_pos, max_size)\n",
    "        rest_indices_combined = np.concatenate((rest_indices_left, rest_indices_right))\n",
    "        random_choice = np.random.choice(rest_indices_combined, size=batch_size - sequential_size, replace=False)\n",
    "        sampled_indices = np.concatenate((sampled_indices, random_choice))\n",
    "    return sampled_indices"
   ]
  },
  {
   "cell_type": "code",
   "execution_count": 5,
   "metadata": {},
   "outputs": [],
   "source": [
    "def check_duplicates(sequential_indices=None):\n",
    "    ret = -1\n",
    "    duplicate_found = False\n",
    "    visited_set = set()\n",
    "    for index in sequential_indices:\n",
    "        if index in visited_set:\n",
    "            duplicate_found = True\n",
    "            return duplicate_found, visited_set, index\n",
    "        visited_set.add(index)\n",
    "    return duplicate_found, visited_set, ret"
   ]
  },
  {
   "cell_type": "code",
   "execution_count": 6,
   "metadata": {},
   "outputs": [
    {
     "name": "stdout",
     "output_type": "stream",
     "text": [
      "30\n",
      "False 30 -1\n"
     ]
    }
   ],
   "source": [
    "random_samples = return_random_samples(current_pos=15, sequential_size=30)\n",
    "print(len(random_samples))\n",
    "duplicate_found, visited_set, ret = check_duplicates(sequential_indices=random_samples)\n",
    "print(duplicate_found, len(visited_set), ret)"
   ]
  },
  {
   "cell_type": "code",
   "execution_count": 7,
   "metadata": {},
   "outputs": [
    {
     "data": {
      "text/plain": [
       "array([14, 13, 12, 11, 10,  9,  8,  7,  6,  5,  4,  3,  2,  1,  0, 60, 59,\n",
       "       58, 57, 56, 55, 54, 53, 52, 51, 50, 49, 48, 47, 46])"
      ]
     },
     "execution_count": 7,
     "metadata": {},
     "output_type": "execute_result"
    }
   ],
   "source": [
    "random_samples"
   ]
  },
  {
   "cell_type": "code",
   "execution_count": 8,
   "metadata": {},
   "outputs": [
    {
     "name": "stdout",
     "output_type": "stream",
     "text": [
      "<class 'numpy.ndarray'> <class 'numpy.int64'>\n"
     ]
    }
   ],
   "source": [
    "print(type(random_samples), type(random_samples[0]))"
   ]
  },
  {
   "cell_type": "code",
   "execution_count": 83,
   "metadata": {},
   "outputs": [],
   "source": [
    "batch_idx = np.random.randint(60, size=30)"
   ]
  },
  {
   "cell_type": "code",
   "execution_count": 84,
   "metadata": {},
   "outputs": [
    {
     "name": "stdout",
     "output_type": "stream",
     "text": [
      "<class 'numpy.ndarray'> <class 'numpy.int64'>\n"
     ]
    }
   ],
   "source": [
    "print(type(batch_idx), type(batch_idx[0]))"
   ]
  },
  {
   "cell_type": "code",
   "execution_count": 98,
   "metadata": {},
   "outputs": [
    {
     "data": {
      "text/plain": [
       "1"
      ]
     },
     "execution_count": 98,
     "metadata": {},
     "output_type": "execute_result"
    }
   ],
   "source": [
    "abs(-1)"
   ]
  },
  {
   "cell_type": "code",
   "execution_count": 3,
   "metadata": {},
   "outputs": [
    {
     "name": "stdout",
     "output_type": "stream",
     "text": [
      "[1.]\n"
     ]
    }
   ],
   "source": [
    "a = np.array([1])\n",
    "b = np.array([])\n",
    "c = np.concatenate((a,b))\n",
    "print(c)"
   ]
  },
  {
   "cell_type": "code",
   "execution_count": 3,
   "metadata": {},
   "outputs": [],
   "source": [
    "from gym import spaces\n",
    "import numpy as np"
   ]
  },
  {
   "cell_type": "code",
   "execution_count": 4,
   "metadata": {},
   "outputs": [
    {
     "data": {
      "text/plain": [
       "2"
      ]
     },
     "execution_count": 4,
     "metadata": {},
     "output_type": "execute_result"
    }
   ],
   "source": [
    "action_space = spaces.Box(np.array([-2.0, -2.0]), np.array([2.0, 2.0]), dtype=np.float32)\n",
    "action_space.shape[0]"
   ]
  },
  {
   "cell_type": "code",
   "execution_count": 2,
   "metadata": {},
   "outputs": [],
   "source": [
    "import numpy as np\n",
    "a = np.array([10, 100, 1000])\n",
    "b = np.clip(a[0], -2, 2)\n",
    "c = np.clip(a[1], -3, 3)\n",
    "d = np.clip(a[2], -5, 5)"
   ]
  },
  {
   "cell_type": "code",
   "execution_count": 3,
   "metadata": {},
   "outputs": [
    {
     "name": "stdout",
     "output_type": "stream",
     "text": [
      "2 3 5\n"
     ]
    }
   ],
   "source": [
    "print(b,c,d)"
   ]
  },
  {
   "cell_type": "code",
   "execution_count": null,
   "metadata": {},
   "outputs": [],
   "source": []
  }
 ],
 "metadata": {
  "kernelspec": {
   "display_name": "carla_ppo",
   "language": "python",
   "name": "python3"
  },
  "language_info": {
   "codemirror_mode": {
    "name": "ipython",
    "version": 3
   },
   "file_extension": ".py",
   "mimetype": "text/x-python",
   "name": "python",
   "nbconvert_exporter": "python",
   "pygments_lexer": "ipython3",
   "version": "3.8.16"
  },
  "orig_nbformat": 4,
  "vscode": {
   "interpreter": {
    "hash": "1d56bf6091ddf7516551336f23d38bebe606d450468cdb96326cdf00474e5748"
   }
  }
 },
 "nbformat": 4,
 "nbformat_minor": 2
}
