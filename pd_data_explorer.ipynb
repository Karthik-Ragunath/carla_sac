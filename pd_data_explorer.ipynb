{
 "cells": [
  {
   "cell_type": "code",
   "execution_count": 2,
   "metadata": {},
   "outputs": [],
   "source": [
    "import pandas as pd"
   ]
  },
  {
   "cell_type": "code",
   "execution_count": 7,
   "metadata": {},
   "outputs": [],
   "source": [
    "df = pd.read_pickle(\"/home/kxa200005/github/mile/outputs/2023-06-11/22-49-45/save_data/Town01/0000/pd_dataframe.pkl\")"
   ]
  },
  {
   "cell_type": "code",
   "execution_count": 8,
   "metadata": {},
   "outputs": [
    {
     "data": {
      "text/html": [
       "<div>\n",
       "<style scoped>\n",
       "    .dataframe tbody tr th:only-of-type {\n",
       "        vertical-align: middle;\n",
       "    }\n",
       "\n",
       "    .dataframe tbody tr th {\n",
       "        vertical-align: top;\n",
       "    }\n",
       "\n",
       "    .dataframe thead th {\n",
       "        text-align: right;\n",
       "    }\n",
       "</style>\n",
       "<table border=\"1\" class=\"dataframe\">\n",
       "  <thead>\n",
       "    <tr style=\"text-align: right;\">\n",
       "      <th></th>\n",
       "      <th>action_mu</th>\n",
       "      <th>action_sigma</th>\n",
       "      <th>action</th>\n",
       "      <th>speed</th>\n",
       "      <th>reward</th>\n",
       "      <th>value</th>\n",
       "      <th>features</th>\n",
       "      <th>gnss</th>\n",
       "      <th>target_gps</th>\n",
       "      <th>imu</th>\n",
       "      <th>...</th>\n",
       "      <th>cloudiness</th>\n",
       "      <th>fog_density</th>\n",
       "      <th>fog_distance</th>\n",
       "      <th>fog_falloff</th>\n",
       "      <th>precipitation</th>\n",
       "      <th>precipitation_deposits</th>\n",
       "      <th>sun_altitude_angle</th>\n",
       "      <th>sun_azimuth_angle</th>\n",
       "      <th>wetness</th>\n",
       "      <th>wind_intensity</th>\n",
       "    </tr>\n",
       "  </thead>\n",
       "  <tbody>\n",
       "    <tr>\n",
       "      <th>0</th>\n",
       "      <td>[11.991412, 77.068344]</td>\n",
       "      <td>[0.085046604, 64.245384]</td>\n",
       "      <td>[1.0, 0.09204388, 0.0]</td>\n",
       "      <td>[0.0]</td>\n",
       "      <td>-1.000000e-01</td>\n",
       "      <td>61.374229</td>\n",
       "      <td>[0.0, 0.0, 2.9467573, 2.0225675, 0.0, 0.0, 0.0...</td>\n",
       "      <td>[-0.0029687665, 0.003277981, 0.35079566]</td>\n",
       "      <td>[-0.00296992, 0.0033123577, 0.0]</td>\n",
       "      <td>[0.00023068453, 0.00036510947, 9.796997, -0.00...</td>\n",
       "      <td>...</td>\n",
       "      <td>5.0</td>\n",
       "      <td>2.0</td>\n",
       "      <td>0.75</td>\n",
       "      <td>0.1</td>\n",
       "      <td>0.0</td>\n",
       "      <td>0.0</td>\n",
       "      <td>45.0</td>\n",
       "      <td>-1.0</td>\n",
       "      <td>0.0</td>\n",
       "      <td>10.0</td>\n",
       "    </tr>\n",
       "    <tr>\n",
       "      <th>1</th>\n",
       "      <td>[11.932207, 76.95963]</td>\n",
       "      <td>[0.09968348, 64.89342]</td>\n",
       "      <td>[1.0, 0.08627772, 0.0]</td>\n",
       "      <td>[0.0]</td>\n",
       "      <td>5.952715e-09</td>\n",
       "      <td>62.378624</td>\n",
       "      <td>[0.0, 0.0, 2.9881754, 1.9224852, 0.0, 0.0, 0.0...</td>\n",
       "      <td>[-0.0029741942, 0.0032778687, 0.16853304]</td>\n",
       "      <td>[-0.00296992, 0.0033123577, 0.0]</td>\n",
       "      <td>[-227937.47, -206631.23, -323.36768, 0.0005414...</td>\n",
       "      <td>...</td>\n",
       "      <td>5.0</td>\n",
       "      <td>2.0</td>\n",
       "      <td>0.75</td>\n",
       "      <td>0.1</td>\n",
       "      <td>0.0</td>\n",
       "      <td>0.0</td>\n",
       "      <td>45.0</td>\n",
       "      <td>-1.0</td>\n",
       "      <td>0.0</td>\n",
       "      <td>10.0</td>\n",
       "    </tr>\n",
       "    <tr>\n",
       "      <th>2</th>\n",
       "      <td>[11.932062, 76.96094]</td>\n",
       "      <td>[0.09970373, 64.89259]</td>\n",
       "      <td>[1.0, 0.08629274, 0.0]</td>\n",
       "      <td>[-4.4423496e-09]</td>\n",
       "      <td>9.957301e-04</td>\n",
       "      <td>62.379738</td>\n",
       "      <td>[0.0, 0.0, 2.9882941, 1.9224883, 0.0, 0.0, 0.0...</td>\n",
       "      <td>[-0.0029785288, 0.0032798434, -0.007162088]</td>\n",
       "      <td>[-0.00296992, 0.0033123577, 0.0]</td>\n",
       "      <td>[-0.00047241538, 0.0018934968, 13.9368925, 0.0...</td>\n",
       "      <td>...</td>\n",
       "      <td>5.0</td>\n",
       "      <td>2.0</td>\n",
       "      <td>0.75</td>\n",
       "      <td>0.1</td>\n",
       "      <td>0.0</td>\n",
       "      <td>0.0</td>\n",
       "      <td>45.0</td>\n",
       "      <td>-1.0</td>\n",
       "      <td>0.0</td>\n",
       "      <td>10.0</td>\n",
       "    </tr>\n",
       "    <tr>\n",
       "      <th>3</th>\n",
       "      <td>[11.934421, 76.96092]</td>\n",
       "      <td>[0.099483564, 64.883286]</td>\n",
       "      <td>[1.0, 0.086364985, 0.0]</td>\n",
       "      <td>[-0.005936446]</td>\n",
       "      <td>3.488180e-04</td>\n",
       "      <td>62.364799</td>\n",
       "      <td>[0.0, 0.0, 2.9874578, 1.9226371, 0.0, 0.0, 0.0...</td>\n",
       "      <td>[-0.0029672126, 0.0032795211, -0.074549586]</td>\n",
       "      <td>[-0.00296992, 0.0033123577, 0.0]</td>\n",
       "      <td>[-0.0006864568, 0.0018623135, 77.5159, 0.00707...</td>\n",
       "      <td>...</td>\n",
       "      <td>5.0</td>\n",
       "      <td>2.0</td>\n",
       "      <td>0.75</td>\n",
       "      <td>0.1</td>\n",
       "      <td>0.0</td>\n",
       "      <td>0.0</td>\n",
       "      <td>45.0</td>\n",
       "      <td>-1.0</td>\n",
       "      <td>0.0</td>\n",
       "      <td>10.0</td>\n",
       "    </tr>\n",
       "    <tr>\n",
       "      <th>4</th>\n",
       "      <td>[11.3211775, 71.15901]</td>\n",
       "      <td>[0.10293317, 69.84675]</td>\n",
       "      <td>[1.0, 0.009440303, 0.0]</td>\n",
       "      <td>[-0.0019282515]</td>\n",
       "      <td>2.994499e-05</td>\n",
       "      <td>61.282520</td>\n",
       "      <td>[0.0, 0.0, 3.0786912, 1.521804, 0.0, 0.0, 0.0,...</td>\n",
       "      <td>[-0.0029722827, 0.0032856246, -0.06869179]</td>\n",
       "      <td>[-0.00296992, 0.0033123577, 0.0]</td>\n",
       "      <td>[0.15936334, 0.04805965, 55.575024, 0.00249984...</td>\n",
       "      <td>...</td>\n",
       "      <td>5.0</td>\n",
       "      <td>2.0</td>\n",
       "      <td>0.75</td>\n",
       "      <td>0.1</td>\n",
       "      <td>0.0</td>\n",
       "      <td>0.0</td>\n",
       "      <td>45.0</td>\n",
       "      <td>-1.0</td>\n",
       "      <td>0.0</td>\n",
       "      <td>10.0</td>\n",
       "    </tr>\n",
       "  </tbody>\n",
       "</table>\n",
       "<p>5 rows × 34 columns</p>\n",
       "</div>"
      ],
      "text/plain": [
       "                action_mu              action_sigma                   action  \\\n",
       "0  [11.991412, 77.068344]  [0.085046604, 64.245384]   [1.0, 0.09204388, 0.0]   \n",
       "1   [11.932207, 76.95963]    [0.09968348, 64.89342]   [1.0, 0.08627772, 0.0]   \n",
       "2   [11.932062, 76.96094]    [0.09970373, 64.89259]   [1.0, 0.08629274, 0.0]   \n",
       "3   [11.934421, 76.96092]  [0.099483564, 64.883286]  [1.0, 0.086364985, 0.0]   \n",
       "4  [11.3211775, 71.15901]    [0.10293317, 69.84675]  [1.0, 0.009440303, 0.0]   \n",
       "\n",
       "              speed        reward      value  \\\n",
       "0             [0.0] -1.000000e-01  61.374229   \n",
       "1             [0.0]  5.952715e-09  62.378624   \n",
       "2  [-4.4423496e-09]  9.957301e-04  62.379738   \n",
       "3    [-0.005936446]  3.488180e-04  62.364799   \n",
       "4   [-0.0019282515]  2.994499e-05  61.282520   \n",
       "\n",
       "                                            features  \\\n",
       "0  [0.0, 0.0, 2.9467573, 2.0225675, 0.0, 0.0, 0.0...   \n",
       "1  [0.0, 0.0, 2.9881754, 1.9224852, 0.0, 0.0, 0.0...   \n",
       "2  [0.0, 0.0, 2.9882941, 1.9224883, 0.0, 0.0, 0.0...   \n",
       "3  [0.0, 0.0, 2.9874578, 1.9226371, 0.0, 0.0, 0.0...   \n",
       "4  [0.0, 0.0, 3.0786912, 1.521804, 0.0, 0.0, 0.0,...   \n",
       "\n",
       "                                          gnss  \\\n",
       "0     [-0.0029687665, 0.003277981, 0.35079566]   \n",
       "1    [-0.0029741942, 0.0032778687, 0.16853304]   \n",
       "2  [-0.0029785288, 0.0032798434, -0.007162088]   \n",
       "3  [-0.0029672126, 0.0032795211, -0.074549586]   \n",
       "4   [-0.0029722827, 0.0032856246, -0.06869179]   \n",
       "\n",
       "                         target_gps  \\\n",
       "0  [-0.00296992, 0.0033123577, 0.0]   \n",
       "1  [-0.00296992, 0.0033123577, 0.0]   \n",
       "2  [-0.00296992, 0.0033123577, 0.0]   \n",
       "3  [-0.00296992, 0.0033123577, 0.0]   \n",
       "4  [-0.00296992, 0.0033123577, 0.0]   \n",
       "\n",
       "                                                 imu  ... cloudiness  \\\n",
       "0  [0.00023068453, 0.00036510947, 9.796997, -0.00...  ...        5.0   \n",
       "1  [-227937.47, -206631.23, -323.36768, 0.0005414...  ...        5.0   \n",
       "2  [-0.00047241538, 0.0018934968, 13.9368925, 0.0...  ...        5.0   \n",
       "3  [-0.0006864568, 0.0018623135, 77.5159, 0.00707...  ...        5.0   \n",
       "4  [0.15936334, 0.04805965, 55.575024, 0.00249984...  ...        5.0   \n",
       "\n",
       "  fog_density fog_distance fog_falloff precipitation precipitation_deposits  \\\n",
       "0         2.0         0.75         0.1           0.0                    0.0   \n",
       "1         2.0         0.75         0.1           0.0                    0.0   \n",
       "2         2.0         0.75         0.1           0.0                    0.0   \n",
       "3         2.0         0.75         0.1           0.0                    0.0   \n",
       "4         2.0         0.75         0.1           0.0                    0.0   \n",
       "\n",
       "   sun_altitude_angle  sun_azimuth_angle wetness wind_intensity  \n",
       "0                45.0               -1.0     0.0           10.0  \n",
       "1                45.0               -1.0     0.0           10.0  \n",
       "2                45.0               -1.0     0.0           10.0  \n",
       "3                45.0               -1.0     0.0           10.0  \n",
       "4                45.0               -1.0     0.0           10.0  \n",
       "\n",
       "[5 rows x 34 columns]"
      ]
     },
     "execution_count": 8,
     "metadata": {},
     "output_type": "execute_result"
    }
   ],
   "source": [
    "df.head()"
   ]
  },
  {
   "cell_type": "code",
   "execution_count": 4,
   "metadata": {},
   "outputs": [
    {
     "data": {
      "text/plain": [
       "7501"
      ]
     },
     "execution_count": 4,
     "metadata": {},
     "output_type": "execute_result"
    }
   ],
   "source": [
    "len(df)"
   ]
  },
  {
   "cell_type": "code",
   "execution_count": 5,
   "metadata": {},
   "outputs": [],
   "source": [
    "import os"
   ]
  },
  {
   "cell_type": "code",
   "execution_count": 6,
   "metadata": {},
   "outputs": [],
   "source": [
    "towns = os.listdir(\"/home/kxa200005/github/mile/outputs/2023-06-11/22-49-45/save_data/\")"
   ]
  },
  {
   "cell_type": "code",
   "execution_count": 7,
   "metadata": {},
   "outputs": [
    {
     "data": {
      "text/plain": [
       "['Town01']"
      ]
     },
     "execution_count": 7,
     "metadata": {},
     "output_type": "execute_result"
    }
   ],
   "source": [
    "towns"
   ]
  },
  {
   "cell_type": "code",
   "execution_count": 10,
   "metadata": {},
   "outputs": [
    {
     "name": "stdout",
     "output_type": "stream",
     "text": [
      "7501\n"
     ]
    }
   ],
   "source": [
    "# Get all files in the directory\n",
    "\n",
    "\n",
    "files = os.listdir(\"/home/kxa200005/github/mile/outputs/2023-06-11/22-49-45/save_data/Town01/0000/image\")\n",
    "\n",
    "# Sort the files alphabetically\n",
    "sorted_files = sorted(files)\n",
    "print(len(sorted_files))\n",
    "\n",
    "# # Print the sorted filenames\n",
    "# for filename in sorted_files:\n",
    "#     print(filename)"
   ]
  },
  {
   "cell_type": "code",
   "execution_count": 9,
   "metadata": {},
   "outputs": [
    {
     "data": {
      "text/plain": [
       "['birdview', 'image', 'pd_dataframe.pkl', 'routemap']"
      ]
     },
     "execution_count": 9,
     "metadata": {},
     "output_type": "execute_result"
    }
   ],
   "source": [
    "sorted_files"
   ]
  },
  {
   "cell_type": "code",
   "execution_count": 11,
   "metadata": {},
   "outputs": [
    {
     "data": {
      "text/plain": [
       "['image_000000000.png',\n",
       " 'image_000000001.png',\n",
       " 'image_000000002.png',\n",
       " 'image_000000003.png',\n",
       " 'image_000000004.png',\n",
       " 'image_000000005.png',\n",
       " 'image_000000006.png',\n",
       " 'image_000000007.png',\n",
       " 'image_000000008.png',\n",
       " 'image_000000009.png']"
      ]
     },
     "execution_count": 11,
     "metadata": {},
     "output_type": "execute_result"
    }
   ],
   "source": [
    "sorted_files[:10]"
   ]
  },
  {
   "cell_type": "code",
   "execution_count": 3,
   "metadata": {},
   "outputs": [
    {
     "name": "stdout",
     "output_type": "stream",
     "text": [
      "(96, 96, 3)\n"
     ]
    }
   ],
   "source": [
    "import cv2\n",
    "import numpy as np\n",
    "\n",
    "# Read the image\n",
    "image_path = \"/home/kxa200005/github/mile/outputs/2023-06-11/22-49-45/save_data/Town01/0000/image/image_000000000.png\"\n",
    "image = cv2.imread(image_path)  # Replace with the path to your image\n",
    "\n",
    "# Resize the image\n",
    "new_width, new_height = 96, 96\n",
    "resized_image = cv2.resize(image, (new_width, new_height))  # Replace with your desired width and height\n",
    "\n",
    "# Convert the image to a NumPy array\n",
    "image_array = np.array(resized_image)\n",
    "\n",
    "# Print the shape of the image array\n",
    "print(image_array.shape)\n",
    "\n",
    "# Display the image\n",
    "# cv2.imshow('Resized Image', resized_image)\n",
    "# cv2.waitKey(0)\n",
    "# cv2.destroyAllWindows()"
   ]
  },
  {
   "cell_type": "code",
   "execution_count": 4,
   "metadata": {},
   "outputs": [],
   "source": [
    "gray = np.dot(image_array[..., :], [0.299, 0.587, 0.114])"
   ]
  },
  {
   "cell_type": "code",
   "execution_count": 5,
   "metadata": {},
   "outputs": [
    {
     "data": {
      "text/plain": [
       "(96, 96)"
      ]
     },
     "execution_count": 5,
     "metadata": {},
     "output_type": "execute_result"
    }
   ],
   "source": [
    "gray.shape"
   ]
  },
  {
   "cell_type": "code",
   "execution_count": 9,
   "metadata": {},
   "outputs": [
    {
     "data": {
      "text/plain": [
       "0                 [1.0, 0.09204388, 0.0]\n",
       "1                 [1.0, 0.08627772, 0.0]\n",
       "2                 [1.0, 0.08629274, 0.0]\n",
       "3                [1.0, 0.086364985, 0.0]\n",
       "4                [1.0, 0.009440303, 0.0]\n",
       "                      ...               \n",
       "7496       [0.6261114, -0.01369971, 0.0]\n",
       "7497    [0.051083803, -0.013549864, 0.0]\n",
       "7498      [0.0, 0.009104133, 0.26667207]\n",
       "7499      [0.0, 0.0025171041, 0.5590304]\n",
       "7500      [0.0, -0.011034906, 0.9467517]\n",
       "Name: action, Length: 7501, dtype: object"
      ]
     },
     "execution_count": 9,
     "metadata": {},
     "output_type": "execute_result"
    }
   ],
   "source": [
    "df['action']"
   ]
  },
  {
   "cell_type": "code",
   "execution_count": 10,
   "metadata": {},
   "outputs": [
    {
     "data": {
      "text/plain": [
       "action_mu                                            [11.991412, 77.068344]\n",
       "action_sigma                                       [0.085046604, 64.245384]\n",
       "action                                               [1.0, 0.09204388, 0.0]\n",
       "speed                                                                 [0.0]\n",
       "reward                                                                 -0.1\n",
       "value                                                             61.374229\n",
       "features                  [0.0, 0.0, 2.9467573, 2.0225675, 0.0, 0.0, 0.0...\n",
       "gnss                               [-0.0029687665, 0.003277981, 0.35079566]\n",
       "target_gps                                 [-0.00296992, 0.0033123577, 0.0]\n",
       "imu                       [0.00023068453, 0.00036510947, 9.796997, -0.00...\n",
       "command                                                                 [4]\n",
       "target_gps_next                             [-0.00296992, 0.003330324, 0.0]\n",
       "command_next                                                            [4]\n",
       "image_path                                        image/image_000000000.png\n",
       "birdview_path                               birdview/birdview_000000000.png\n",
       "routemap_path                               routemap/routemap_000000000.png\n",
       "n_classes                                                                 8\n",
       "is_expert                                                              True\n",
       "weather                                                           ClearNoon\n",
       "town                                                                 Town01\n",
       "n_vehicles                                                        [80, 160]\n",
       "n_walkers                                                         [80, 160]\n",
       "route_id                                                                  0\n",
       "env_id                                                           Endless-v0\n",
       "cloudiness                                                              5.0\n",
       "fog_density                                                             2.0\n",
       "fog_distance                                                           0.75\n",
       "fog_falloff                                                             0.1\n",
       "precipitation                                                           0.0\n",
       "precipitation_deposits                                                  0.0\n",
       "sun_altitude_angle                                                     45.0\n",
       "sun_azimuth_angle                                                      -1.0\n",
       "wetness                                                                 0.0\n",
       "wind_intensity                                                         10.0\n",
       "Name: 0, dtype: object"
      ]
     },
     "execution_count": 10,
     "metadata": {},
     "output_type": "execute_result"
    }
   ],
   "source": [
    "df.iloc[0]"
   ]
  },
  {
   "cell_type": "code",
   "execution_count": 11,
   "metadata": {},
   "outputs": [
    {
     "data": {
      "text/plain": [
       "array([11.991412, 77.068344], dtype=float32)"
      ]
     },
     "execution_count": 11,
     "metadata": {},
     "output_type": "execute_result"
    }
   ],
   "source": [
    "df.iloc[0]['action_mu']"
   ]
  },
  {
   "cell_type": "code",
   "execution_count": null,
   "metadata": {},
   "outputs": [],
   "source": []
  }
 ],
 "metadata": {
  "kernelspec": {
   "display_name": "carla_ppo_autopilot_env",
   "language": "python",
   "name": "python3"
  },
  "language_info": {
   "codemirror_mode": {
    "name": "ipython",
    "version": 3
   },
   "file_extension": ".py",
   "mimetype": "text/x-python",
   "name": "python",
   "nbconvert_exporter": "python",
   "pygments_lexer": "ipython3",
   "version": "3.8.16"
  },
  "orig_nbformat": 4,
  "vscode": {
   "interpreter": {
    "hash": "ba1328219095f7c783fd072c34d83a16dfd6d92fb987974a9eb53f0eba06bc19"
   }
  }
 },
 "nbformat": 4,
 "nbformat_minor": 2
}
